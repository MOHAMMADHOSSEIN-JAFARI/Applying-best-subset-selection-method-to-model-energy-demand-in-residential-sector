{
  "nbformat": 4,
  "nbformat_minor": 0,
  "metadata": {
    "colab": {
      "name": "text_mining.ipynb",
      "provenance": [],
      "collapsed_sections": [],
      "authorship_tag": "ABX9TyPJUFpYp48Ng3B8/6i2AKUQ",
      "include_colab_link": true
    },
    "kernelspec": {
      "name": "python3",
      "display_name": "Python 3"
    },
    "language_info": {
      "name": "python"
    }
  },
  "cells": [
    {
      "cell_type": "markdown",
      "metadata": {
        "id": "view-in-github",
        "colab_type": "text"
      },
      "source": [
        "<a href=\"https://colab.research.google.com/github/MOHAMMADHOSSEIN-JAFARI/Applying-best-subset-selection-method-to-model-energy-demand-in-residential-sector/blob/main/text_mining.ipynb\" target=\"_parent\"><img src=\"https://colab.research.google.com/assets/colab-badge.svg\" alt=\"Open In Colab\"/></a>"
      ]
    },
    {
      "cell_type": "code",
      "source": [
        "a= \"\"\" The first mosque on this site was built circa 771, during the reign of the Abbasid caliph Al-Mansur.[2] This first building was relatively small, measuring about 52 by 90 meters.[2] It was built in mud-brick and had stucco-decoration in the Syro-Mesopotamian style of Abbasid architecture.[2] Its remains were excavated in the 1970s during studies of the present-day mosque.[3]\n",
        "\n",
        "The mosque was then replaced by a larger one in 840-841 during the reign of Al-Mu'tasim.[2][3] This new building measured around 88 by 128 meters and had a different qibla orientation than the first one.[2] It had a large central courtyard surrounded by an arcade and hypostyle hall of baked brick pillars supporting either a flat roof[2] or a roof of brick vaults.[3] The hypostyle hall, was two bays deep along the sides, four bays deep on the side opposite the qibla (the northwest), and six bays deep on the qibla side where the main prayer hall was. The aisle leading the mosque's mihrab was slightly wider than the other aisles.[3] There is no indication that the new mosque had a minaret, despite the existence of this feature in other mosques of the period,[3] although Muqaddasi described the presence of a tall minaret in a central mosque of Isfahan before 985.[4]: 46 \n",
        "\n",
        "Under the control of the Buyid dynasty (10th-11th centuries) another arcade of polylobed brick piers was added around the courtyard, in front of the existing courtyard façades. Instead of the earlier stucco decoration, the new additions were decorated with patterns created with bricks laid in circles, diamond shapes, zigzags, and other geometric patterns similar to the brickwork found in other monuments from the Buyid period.[3][2] The exact date of this renovation is uncertain[3] but is estimated by some to be around 975 or the late 10th century.[5][2] Oleg Grabar estimates the date as being between 985 and 1040, based on descriptions of the mosque in historical sources.[4]: 47  Two minarets were also added at the entrance of the mosque near the dyers' market. They stood on either side of the entrance and were each built on top of a pedestal or base structure. This is the first recorded instance of the double minaret arrangement which later became common in Iran and beyond.[4]: 47 [6] \"\"\"\n",
        "\n"
      ],
      "metadata": {
        "id": "ohYgWbcv6_th"
      },
      "execution_count": 1,
      "outputs": []
    },
    {
      "cell_type": "code",
      "source": [
        "a= a.lower()\n",
        "print(a)"
      ],
      "metadata": {
        "colab": {
          "base_uri": "https://localhost:8080/"
        },
        "id": "cD8yxMLJ8jWh",
        "outputId": "24119387-1bb4-42ff-f176-73eb6c23d257"
      },
      "execution_count": 2,
      "outputs": [
        {
          "output_type": "stream",
          "name": "stdout",
          "text": [
            " the first mosque on this site was built circa 771, during the reign of the abbasid caliph al-mansur.[2] this first building was relatively small, measuring about 52 by 90 meters.[2] it was built in mud-brick and had stucco-decoration in the syro-mesopotamian style of abbasid architecture.[2] its remains were excavated in the 1970s during studies of the present-day mosque.[3]\n",
            "\n",
            "the mosque was then replaced by a larger one in 840-841 during the reign of al-mu'tasim.[2][3] this new building measured around 88 by 128 meters and had a different qibla orientation than the first one.[2] it had a large central courtyard surrounded by an arcade and hypostyle hall of baked brick pillars supporting either a flat roof[2] or a roof of brick vaults.[3] the hypostyle hall, was two bays deep along the sides, four bays deep on the side opposite the qibla (the northwest), and six bays deep on the qibla side where the main prayer hall was. the aisle leading the mosque's mihrab was slightly wider than the other aisles.[3] there is no indication that the new mosque had a minaret, despite the existence of this feature in other mosques of the period,[3] although muqaddasi described the presence of a tall minaret in a central mosque of isfahan before 985.[4]: 46 \n",
            "\n",
            "under the control of the buyid dynasty (10th-11th centuries) another arcade of polylobed brick piers was added around the courtyard, in front of the existing courtyard façades. instead of the earlier stucco decoration, the new additions were decorated with patterns created with bricks laid in circles, diamond shapes, zigzags, and other geometric patterns similar to the brickwork found in other monuments from the buyid period.[3][2] the exact date of this renovation is uncertain[3] but is estimated by some to be around 975 or the late 10th century.[5][2] oleg grabar estimates the date as being between 985 and 1040, based on descriptions of the mosque in historical sources.[4]: 47  two minarets were also added at the entrance of the mosque near the dyers' market. they stood on either side of the entrance and were each built on top of a pedestal or base structure. this is the first recorded instance of the double minaret arrangement which later became common in iran and beyond.[4]: 47 [6] \n"
          ]
        }
      ]
    },
    {
      "cell_type": "code",
      "source": [
        "b= a.split()\n",
        "print(type(b))\n",
        "print(b)\n",
        "print(len(b))\n"
      ],
      "metadata": {
        "colab": {
          "base_uri": "https://localhost:8080/"
        },
        "id": "TIF9QVoS8rfs",
        "outputId": "7a3e1897-1d30-4c41-958d-674d7c0754cc"
      },
      "execution_count": 3,
      "outputs": [
        {
          "output_type": "stream",
          "name": "stdout",
          "text": [
            "<class 'list'>\n",
            "['the', 'first', 'mosque', 'on', 'this', 'site', 'was', 'built', 'circa', '771,', 'during', 'the', 'reign', 'of', 'the', 'abbasid', 'caliph', 'al-mansur.[2]', 'this', 'first', 'building', 'was', 'relatively', 'small,', 'measuring', 'about', '52', 'by', '90', 'meters.[2]', 'it', 'was', 'built', 'in', 'mud-brick', 'and', 'had', 'stucco-decoration', 'in', 'the', 'syro-mesopotamian', 'style', 'of', 'abbasid', 'architecture.[2]', 'its', 'remains', 'were', 'excavated', 'in', 'the', '1970s', 'during', 'studies', 'of', 'the', 'present-day', 'mosque.[3]', 'the', 'mosque', 'was', 'then', 'replaced', 'by', 'a', 'larger', 'one', 'in', '840-841', 'during', 'the', 'reign', 'of', \"al-mu'tasim.[2][3]\", 'this', 'new', 'building', 'measured', 'around', '88', 'by', '128', 'meters', 'and', 'had', 'a', 'different', 'qibla', 'orientation', 'than', 'the', 'first', 'one.[2]', 'it', 'had', 'a', 'large', 'central', 'courtyard', 'surrounded', 'by', 'an', 'arcade', 'and', 'hypostyle', 'hall', 'of', 'baked', 'brick', 'pillars', 'supporting', 'either', 'a', 'flat', 'roof[2]', 'or', 'a', 'roof', 'of', 'brick', 'vaults.[3]', 'the', 'hypostyle', 'hall,', 'was', 'two', 'bays', 'deep', 'along', 'the', 'sides,', 'four', 'bays', 'deep', 'on', 'the', 'side', 'opposite', 'the', 'qibla', '(the', 'northwest),', 'and', 'six', 'bays', 'deep', 'on', 'the', 'qibla', 'side', 'where', 'the', 'main', 'prayer', 'hall', 'was.', 'the', 'aisle', 'leading', 'the', \"mosque's\", 'mihrab', 'was', 'slightly', 'wider', 'than', 'the', 'other', 'aisles.[3]', 'there', 'is', 'no', 'indication', 'that', 'the', 'new', 'mosque', 'had', 'a', 'minaret,', 'despite', 'the', 'existence', 'of', 'this', 'feature', 'in', 'other', 'mosques', 'of', 'the', 'period,[3]', 'although', 'muqaddasi', 'described', 'the', 'presence', 'of', 'a', 'tall', 'minaret', 'in', 'a', 'central', 'mosque', 'of', 'isfahan', 'before', '985.[4]:', '46', 'under', 'the', 'control', 'of', 'the', 'buyid', 'dynasty', '(10th-11th', 'centuries)', 'another', 'arcade', 'of', 'polylobed', 'brick', 'piers', 'was', 'added', 'around', 'the', 'courtyard,', 'in', 'front', 'of', 'the', 'existing', 'courtyard', 'façades.', 'instead', 'of', 'the', 'earlier', 'stucco', 'decoration,', 'the', 'new', 'additions', 'were', 'decorated', 'with', 'patterns', 'created', 'with', 'bricks', 'laid', 'in', 'circles,', 'diamond', 'shapes,', 'zigzags,', 'and', 'other', 'geometric', 'patterns', 'similar', 'to', 'the', 'brickwork', 'found', 'in', 'other', 'monuments', 'from', 'the', 'buyid', 'period.[3][2]', 'the', 'exact', 'date', 'of', 'this', 'renovation', 'is', 'uncertain[3]', 'but', 'is', 'estimated', 'by', 'some', 'to', 'be', 'around', '975', 'or', 'the', 'late', '10th', 'century.[5][2]', 'oleg', 'grabar', 'estimates', 'the', 'date', 'as', 'being', 'between', '985', 'and', '1040,', 'based', 'on', 'descriptions', 'of', 'the', 'mosque', 'in', 'historical', 'sources.[4]:', '47', 'two', 'minarets', 'were', 'also', 'added', 'at', 'the', 'entrance', 'of', 'the', 'mosque', 'near', 'the', \"dyers'\", 'market.', 'they', 'stood', 'on', 'either', 'side', 'of', 'the', 'entrance', 'and', 'were', 'each', 'built', 'on', 'top', 'of', 'a', 'pedestal', 'or', 'base', 'structure.', 'this', 'is', 'the', 'first', 'recorded', 'instance', 'of', 'the', 'double', 'minaret', 'arrangement', 'which', 'later', 'became', 'common', 'in', 'iran', 'and', 'beyond.[4]:', '47', '[6]']\n",
            "374\n"
          ]
        }
      ]
    },
    {
      "cell_type": "code",
      "source": [
        "c= set(b) # {'','',...}, set gets jsut unique values \n",
        "print(c)\n",
        "print(type(c))\n",
        "len(c)# sets get jsut unique words \n"
      ],
      "metadata": {
        "colab": {
          "base_uri": "https://localhost:8080/"
        },
        "id": "CbhgbnL79FPq",
        "outputId": "7310e9ff-dbf5-43f9-f1a2-249b25c86f97"
      },
      "execution_count": 4,
      "outputs": [
        {
          "output_type": "stream",
          "name": "stdout",
          "text": [
            "{'minaret,', 'historical', 'relatively', 'different', 'laid', 'uncertain[3]', 'aisle', 'studies', 'two', 'were', 'structure.', 'building', 'grabar', 'instance', 'stucco-decoration', 'surrounded', 'presence', 'the', 'qibla', 'other', 'there', '128', 'as', 'about', 'indication', 'around', 'common', 'first', 'pillars', 'late', 'arcade', 'abbasid', 'aisles.[3]', 'where', 'along', 'façades.', 'shapes,', 'under', 'dynasty', 'small,', 'mosque.[3]', 'bricks', 'described', 'courtyard', '47', 'was.', 'courtyard,', '840-841', 'estimated', 'mosque', 'some', 'added', 'existing', 'style', '10th', 'reign', 'although', 'had', 'main', 'polylobed', 'excavated', 'in', 'central', 'opposite', 'large', 'beyond.[4]:', 'no', 'feature', 'wider', 'created', 'than', 'was', 'of', 'from', 'also', 'syro-mesopotamian', 'prayer', 'mosques', 'century.[5][2]', 'stood', '(10th-11th', 'its', \"mosque's\", 'before', 'monuments', 'on', 'with', 'descriptions', 'each', 'during', 'date', 'mihrab', 'new', '46', 'six', 'present-day', 'which', 'this', 'architecture.[2]', 'side', 'supporting', 'additions', 'iran', 'roof[2]', 'meters.[2]', 'it', 'or', 'sides,', 'flat', 'estimates', 'is', 'be', 'then', 'centuries)', 'piers', 'northwest),', 'recorded', 'buyid', 'circa', 'minaret', 'brick', 'exact', 'deep', 'al-mansur.[2]', 'by', '985.[4]:', 'based', 'market.', 'replaced', 'earlier', 'and', 'roof', 'front', '1040,', 'decoration,', 'diamond', 'double', 'oleg', 'similar', 'stucco', 'but', 'baked', 'leading', \"al-mu'tasim.[2][3]\", 'caliph', 'hall,', 'geometric', '(the', '52', 'top', 'later', '1970s', 'remains', '[6]', 'base', 'another', 'being', '985', 'arrangement', 'hypostyle', 'sources.[4]:', \"dyers'\", 'meters', 'an', 'mud-brick', 'despite', 'to', 'a', 'zigzags,', 'measuring', 'slightly', '975', 'minarets', 'control', 'one', '771,', 'built', '88', 'four', '90', 'muqaddasi', 'bays', 'site', 'period,[3]', 'orientation', 'measured', 'either', 'brickwork', 'at', 'isfahan', 'hall', 'tall', 'patterns', 'pedestal', 'found', 'near', 'existence', 'larger', 'they', 'instead', 'one.[2]', 'became', 'vaults.[3]', 'that', 'circles,', 'entrance', 'renovation', 'between', 'period.[3][2]', 'decorated'}\n",
            "<class 'set'>\n"
          ]
        },
        {
          "output_type": "execute_result",
          "data": {
            "text/plain": [
              "210"
            ]
          },
          "metadata": {},
          "execution_count": 4
        }
      ]
    },
    {
      "cell_type": "code",
      "source": [
        "bag= {}\n",
        "for i in b:\n",
        "  if i in bag:\n",
        "   bag[i] += 1\n",
        "  else:\n",
        "   bag[i] = 1\n",
        "print(bag) # a function to count the numebr of different values \n"
      ],
      "metadata": {
        "colab": {
          "base_uri": "https://localhost:8080/"
        },
        "id": "71NfRS3a-wUN",
        "outputId": "f96c1bff-e08e-4b31-ae09-55a4cff59749"
      },
      "execution_count": 5,
      "outputs": [
        {
          "output_type": "stream",
          "name": "stdout",
          "text": [
            "{'the': 40, 'first': 4, 'mosque': 6, 'on': 6, 'this': 6, 'site': 1, 'was': 7, 'built': 3, 'circa': 1, '771,': 1, 'during': 3, 'reign': 2, 'of': 20, 'abbasid': 2, 'caliph': 1, 'al-mansur.[2]': 1, 'building': 2, 'relatively': 1, 'small,': 1, 'measuring': 1, 'about': 1, '52': 1, 'by': 5, '90': 1, 'meters.[2]': 1, 'it': 2, 'in': 11, 'mud-brick': 1, 'and': 8, 'had': 4, 'stucco-decoration': 1, 'syro-mesopotamian': 1, 'style': 1, 'architecture.[2]': 1, 'its': 1, 'remains': 1, 'were': 4, 'excavated': 1, '1970s': 1, 'studies': 1, 'present-day': 1, 'mosque.[3]': 1, 'then': 1, 'replaced': 1, 'a': 9, 'larger': 1, 'one': 1, '840-841': 1, \"al-mu'tasim.[2][3]\": 1, 'new': 3, 'measured': 1, 'around': 3, '88': 1, '128': 1, 'meters': 1, 'different': 1, 'qibla': 3, 'orientation': 1, 'than': 2, 'one.[2]': 1, 'large': 1, 'central': 2, 'courtyard': 2, 'surrounded': 1, 'an': 1, 'arcade': 2, 'hypostyle': 2, 'hall': 2, 'baked': 1, 'brick': 3, 'pillars': 1, 'supporting': 1, 'either': 2, 'flat': 1, 'roof[2]': 1, 'or': 3, 'roof': 1, 'vaults.[3]': 1, 'hall,': 1, 'two': 2, 'bays': 3, 'deep': 3, 'along': 1, 'sides,': 1, 'four': 1, 'side': 3, 'opposite': 1, '(the': 1, 'northwest),': 1, 'six': 1, 'where': 1, 'main': 1, 'prayer': 1, 'was.': 1, 'aisle': 1, 'leading': 1, \"mosque's\": 1, 'mihrab': 1, 'slightly': 1, 'wider': 1, 'other': 4, 'aisles.[3]': 1, 'there': 1, 'is': 4, 'no': 1, 'indication': 1, 'that': 1, 'minaret,': 1, 'despite': 1, 'existence': 1, 'feature': 1, 'mosques': 1, 'period,[3]': 1, 'although': 1, 'muqaddasi': 1, 'described': 1, 'presence': 1, 'tall': 1, 'minaret': 2, 'isfahan': 1, 'before': 1, '985.[4]:': 1, '46': 1, 'under': 1, 'control': 1, 'buyid': 2, 'dynasty': 1, '(10th-11th': 1, 'centuries)': 1, 'another': 1, 'polylobed': 1, 'piers': 1, 'added': 2, 'courtyard,': 1, 'front': 1, 'existing': 1, 'façades.': 1, 'instead': 1, 'earlier': 1, 'stucco': 1, 'decoration,': 1, 'additions': 1, 'decorated': 1, 'with': 2, 'patterns': 2, 'created': 1, 'bricks': 1, 'laid': 1, 'circles,': 1, 'diamond': 1, 'shapes,': 1, 'zigzags,': 1, 'geometric': 1, 'similar': 1, 'to': 2, 'brickwork': 1, 'found': 1, 'monuments': 1, 'from': 1, 'period.[3][2]': 1, 'exact': 1, 'date': 2, 'renovation': 1, 'uncertain[3]': 1, 'but': 1, 'estimated': 1, 'some': 1, 'be': 1, '975': 1, 'late': 1, '10th': 1, 'century.[5][2]': 1, 'oleg': 1, 'grabar': 1, 'estimates': 1, 'as': 1, 'being': 1, 'between': 1, '985': 1, '1040,': 1, 'based': 1, 'descriptions': 1, 'historical': 1, 'sources.[4]:': 1, '47': 2, 'minarets': 1, 'also': 1, 'at': 1, 'entrance': 2, 'near': 1, \"dyers'\": 1, 'market.': 1, 'they': 1, 'stood': 1, 'each': 1, 'top': 1, 'pedestal': 1, 'base': 1, 'structure.': 1, 'recorded': 1, 'instance': 1, 'double': 1, 'arrangement': 1, 'which': 1, 'later': 1, 'became': 1, 'common': 1, 'iran': 1, 'beyond.[4]:': 1, '[6]': 1}\n"
          ]
        }
      ]
    },
    {
      "cell_type": "code",
      "source": [
        "dic= {'a':1, 'b':2}\n",
        "if 1 in dic:\n",
        "  print('yes')\n",
        "else: \n",
        "  print('no')"
      ],
      "metadata": {
        "id": "eayFHE6_iUP_",
        "outputId": "6affc439-d626-4841-fe33-81f61e889a28",
        "colab": {
          "base_uri": "https://localhost:8080/"
        }
      },
      "execution_count": 10,
      "outputs": [
        {
          "output_type": "stream",
          "name": "stdout",
          "text": [
            "no\n"
          ]
        }
      ]
    },
    {
      "cell_type": "code",
      "source": [
        "dic= {'a': 1000, 'b':1000000}\n",
        "if 'a' in dic: # when calling a dic, you are calling the key not the value. check the next code, it returns not \n",
        "  print('yes')\n",
        "else: \n",
        "  print('no')"
      ],
      "metadata": {
        "id": "Jf0uLMYni8zg",
        "outputId": "1b2b981d-d92a-4173-d2c0-abfa7d55e23e",
        "colab": {
          "base_uri": "https://localhost:8080/"
        }
      },
      "execution_count": 23,
      "outputs": [
        {
          "output_type": "stream",
          "name": "stdout",
          "text": [
            "yes\n"
          ]
        }
      ]
    },
    {
      "cell_type": "code",
      "source": [
        "print(sorted(dic.items(), reverse= True))"
      ],
      "metadata": {
        "id": "2dA7ATVzjcDw",
        "outputId": "3bc02958-cec7-4961-81e6-777ecae277e9",
        "colab": {
          "base_uri": "https://localhost:8080/"
        }
      },
      "execution_count": 24,
      "outputs": [
        {
          "output_type": "stream",
          "name": "stdout",
          "text": [
            "[('b', 1000000), ('a', 1000)]\n"
          ]
        }
      ]
    },
    {
      "cell_type": "code",
      "source": [
        "{k: v for k, v in sorted(dic.items(), key=lambda item: item[1])}"
      ],
      "metadata": {
        "id": "c9D45S79kgBn",
        "outputId": "c369489d-fc1a-48b2-952f-e360f5264c99",
        "colab": {
          "base_uri": "https://localhost:8080/"
        }
      },
      "execution_count": 25,
      "outputs": [
        {
          "output_type": "execute_result",
          "data": {
            "text/plain": [
              "{'a': 1000, 'b': 1000000}"
            ]
          },
          "metadata": {},
          "execution_count": 25
        }
      ]
    },
    {
      "cell_type": "code",
      "source": [
        "dict(sorted(bag.items(), reverse= True, key=lambda item: item[1]))"
      ],
      "metadata": {
        "colab": {
          "base_uri": "https://localhost:8080/"
        },
        "id": "jfK-oonmDwAw",
        "outputId": "07a615bf-f248-45b9-a0ef-584e0685b57a"
      },
      "execution_count": 6,
      "outputs": [
        {
          "output_type": "execute_result",
          "data": {
            "text/plain": [
              "{'(10th-11th': 1,\n",
              " '(the': 1,\n",
              " '1040,': 1,\n",
              " '10th': 1,\n",
              " '128': 1,\n",
              " '1970s': 1,\n",
              " '46': 1,\n",
              " '47': 2,\n",
              " '52': 1,\n",
              " '771,': 1,\n",
              " '840-841': 1,\n",
              " '88': 1,\n",
              " '90': 1,\n",
              " '975': 1,\n",
              " '985': 1,\n",
              " '985.[4]:': 1,\n",
              " '[6]': 1,\n",
              " 'a': 9,\n",
              " 'abbasid': 2,\n",
              " 'about': 1,\n",
              " 'added': 2,\n",
              " 'additions': 1,\n",
              " 'aisle': 1,\n",
              " 'aisles.[3]': 1,\n",
              " 'al-mansur.[2]': 1,\n",
              " \"al-mu'tasim.[2][3]\": 1,\n",
              " 'along': 1,\n",
              " 'also': 1,\n",
              " 'although': 1,\n",
              " 'an': 1,\n",
              " 'and': 8,\n",
              " 'another': 1,\n",
              " 'arcade': 2,\n",
              " 'architecture.[2]': 1,\n",
              " 'around': 3,\n",
              " 'arrangement': 1,\n",
              " 'as': 1,\n",
              " 'at': 1,\n",
              " 'baked': 1,\n",
              " 'base': 1,\n",
              " 'based': 1,\n",
              " 'bays': 3,\n",
              " 'be': 1,\n",
              " 'became': 1,\n",
              " 'before': 1,\n",
              " 'being': 1,\n",
              " 'between': 1,\n",
              " 'beyond.[4]:': 1,\n",
              " 'brick': 3,\n",
              " 'bricks': 1,\n",
              " 'brickwork': 1,\n",
              " 'building': 2,\n",
              " 'built': 3,\n",
              " 'but': 1,\n",
              " 'buyid': 2,\n",
              " 'by': 5,\n",
              " 'caliph': 1,\n",
              " 'central': 2,\n",
              " 'centuries)': 1,\n",
              " 'century.[5][2]': 1,\n",
              " 'circa': 1,\n",
              " 'circles,': 1,\n",
              " 'common': 1,\n",
              " 'control': 1,\n",
              " 'courtyard': 2,\n",
              " 'courtyard,': 1,\n",
              " 'created': 1,\n",
              " 'date': 2,\n",
              " 'decorated': 1,\n",
              " 'decoration,': 1,\n",
              " 'deep': 3,\n",
              " 'described': 1,\n",
              " 'descriptions': 1,\n",
              " 'despite': 1,\n",
              " 'diamond': 1,\n",
              " 'different': 1,\n",
              " 'double': 1,\n",
              " 'during': 3,\n",
              " \"dyers'\": 1,\n",
              " 'dynasty': 1,\n",
              " 'each': 1,\n",
              " 'earlier': 1,\n",
              " 'either': 2,\n",
              " 'entrance': 2,\n",
              " 'estimated': 1,\n",
              " 'estimates': 1,\n",
              " 'exact': 1,\n",
              " 'excavated': 1,\n",
              " 'existence': 1,\n",
              " 'existing': 1,\n",
              " 'façades.': 1,\n",
              " 'feature': 1,\n",
              " 'first': 4,\n",
              " 'flat': 1,\n",
              " 'found': 1,\n",
              " 'four': 1,\n",
              " 'from': 1,\n",
              " 'front': 1,\n",
              " 'geometric': 1,\n",
              " 'grabar': 1,\n",
              " 'had': 4,\n",
              " 'hall': 2,\n",
              " 'hall,': 1,\n",
              " 'historical': 1,\n",
              " 'hypostyle': 2,\n",
              " 'in': 11,\n",
              " 'indication': 1,\n",
              " 'instance': 1,\n",
              " 'instead': 1,\n",
              " 'iran': 1,\n",
              " 'is': 4,\n",
              " 'isfahan': 1,\n",
              " 'it': 2,\n",
              " 'its': 1,\n",
              " 'laid': 1,\n",
              " 'large': 1,\n",
              " 'larger': 1,\n",
              " 'late': 1,\n",
              " 'later': 1,\n",
              " 'leading': 1,\n",
              " 'main': 1,\n",
              " 'market.': 1,\n",
              " 'measured': 1,\n",
              " 'measuring': 1,\n",
              " 'meters': 1,\n",
              " 'meters.[2]': 1,\n",
              " 'mihrab': 1,\n",
              " 'minaret': 2,\n",
              " 'minaret,': 1,\n",
              " 'minarets': 1,\n",
              " 'monuments': 1,\n",
              " 'mosque': 6,\n",
              " \"mosque's\": 1,\n",
              " 'mosque.[3]': 1,\n",
              " 'mosques': 1,\n",
              " 'mud-brick': 1,\n",
              " 'muqaddasi': 1,\n",
              " 'near': 1,\n",
              " 'new': 3,\n",
              " 'no': 1,\n",
              " 'northwest),': 1,\n",
              " 'of': 20,\n",
              " 'oleg': 1,\n",
              " 'on': 6,\n",
              " 'one': 1,\n",
              " 'one.[2]': 1,\n",
              " 'opposite': 1,\n",
              " 'or': 3,\n",
              " 'orientation': 1,\n",
              " 'other': 4,\n",
              " 'patterns': 2,\n",
              " 'pedestal': 1,\n",
              " 'period,[3]': 1,\n",
              " 'period.[3][2]': 1,\n",
              " 'piers': 1,\n",
              " 'pillars': 1,\n",
              " 'polylobed': 1,\n",
              " 'prayer': 1,\n",
              " 'presence': 1,\n",
              " 'present-day': 1,\n",
              " 'qibla': 3,\n",
              " 'recorded': 1,\n",
              " 'reign': 2,\n",
              " 'relatively': 1,\n",
              " 'remains': 1,\n",
              " 'renovation': 1,\n",
              " 'replaced': 1,\n",
              " 'roof': 1,\n",
              " 'roof[2]': 1,\n",
              " 'shapes,': 1,\n",
              " 'side': 3,\n",
              " 'sides,': 1,\n",
              " 'similar': 1,\n",
              " 'site': 1,\n",
              " 'six': 1,\n",
              " 'slightly': 1,\n",
              " 'small,': 1,\n",
              " 'some': 1,\n",
              " 'sources.[4]:': 1,\n",
              " 'stood': 1,\n",
              " 'structure.': 1,\n",
              " 'stucco': 1,\n",
              " 'stucco-decoration': 1,\n",
              " 'studies': 1,\n",
              " 'style': 1,\n",
              " 'supporting': 1,\n",
              " 'surrounded': 1,\n",
              " 'syro-mesopotamian': 1,\n",
              " 'tall': 1,\n",
              " 'than': 2,\n",
              " 'that': 1,\n",
              " 'the': 40,\n",
              " 'then': 1,\n",
              " 'there': 1,\n",
              " 'they': 1,\n",
              " 'this': 6,\n",
              " 'to': 2,\n",
              " 'top': 1,\n",
              " 'two': 2,\n",
              " 'uncertain[3]': 1,\n",
              " 'under': 1,\n",
              " 'vaults.[3]': 1,\n",
              " 'was': 7,\n",
              " 'was.': 1,\n",
              " 'were': 4,\n",
              " 'where': 1,\n",
              " 'which': 1,\n",
              " 'wider': 1,\n",
              " 'with': 2,\n",
              " 'zigzags,': 1}"
            ]
          },
          "metadata": {},
          "execution_count": 6
        }
      ]
    },
    {
      "cell_type": "code",
      "source": [
        ""
      ],
      "metadata": {
        "id": "wFxeHNjPFf3M"
      },
      "execution_count": 6,
      "outputs": []
    },
    {
      "cell_type": "code",
      "source": [
        ""
      ],
      "metadata": {
        "id": "BlUpmWS4BNwW"
      },
      "execution_count": 6,
      "outputs": []
    }
  ]
}